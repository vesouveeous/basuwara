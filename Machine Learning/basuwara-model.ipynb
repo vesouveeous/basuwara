{
  "cells": [
    {
      "cell_type": "code",
      "execution_count": 2,
      "metadata": {
        "id": "SdvPgiWAle_b"
      },
      "outputs": [],
      "source": [
        "import tensorflow as tf\n",
        "import numpy as np\n",
        "import os\n",
        "import pathlib\n",
        "import random\n",
        "import pandas as pd\n",
        "%matplotlib inline\n",
        "import matplotlib.pyplot as plt\n",
        "import matplotlib.image as mpimg\n",
        "import shutil"
      ]
    },
    {
      "cell_type": "code",
      "execution_count": 3,
      "metadata": {
        "id": "hTc15cYAeS9H"
      },
      "outputs": [],
      "source": [
        "import tensorflow as tf\n",
        "from tensorflow.keras.preprocessing.image import ImageDataGenerator\n",
        "from sklearn.model_selection import train_test_split\n",
        "import cv2"
      ]
    },
    {
      "cell_type": "code",
      "execution_count": 4,
      "metadata": {
        "id": "TwGi0wZA_Q4M"
      },
      "outputs": [],
      "source": [
        "def rename_directory(old_name, bahasa):\n",
        "    shutil.move(old_name, bahasa+\"_\"+old_name)"
      ]
    },
    {
      "cell_type": "code",
      "execution_count": 5,
      "metadata": {
        "colab": {
          "base_uri": "https://localhost:8080/"
        },
        "id": "Mn19GEA6mARV",
        "outputId": "366713cc-a983-4ca6-c30e-1eb513458884"
      },
      "outputs": [
        {
          "output_type": "stream",
          "name": "stdout",
          "text": [
            "fatal: destination path 'Data-Capstone' already exists and is not an empty directory.\n"
          ]
        }
      ],
      "source": [
        "#Mount google drive\n",
        "!git clone https://github.com/alberth441/Data-Capstone.git"
      ]
    },
    {
      "cell_type": "code",
      "execution_count": 6,
      "metadata": {
        "colab": {
          "base_uri": "https://localhost:8080/"
        },
        "id": "aM0DeGae-lR5",
        "outputId": "c9ab4e78-b258-4e04-d9fd-828d15de5629"
      },
      "outputs": [
        {
          "output_type": "stream",
          "name": "stdout",
          "text": [
            "fatal: destination path 'capstone_dataset' already exists and is not an empty directory.\n"
          ]
        }
      ],
      "source": [
        "!git clone https://github.com/tnivram/capstone_dataset.git"
      ]
    },
    {
      "cell_type": "code",
      "execution_count": 7,
      "metadata": {
        "id": "N-fqMo0KtvY1"
      },
      "outputs": [],
      "source": [
        "def folder_label(root,bahasa):\n",
        "  basedir = root\n",
        "  for fn in os.listdir(basedir):\n",
        "    if not os.path.isdir(os.path.join(basedir, fn)):\n",
        "      print('aman1')\n",
        "      continue # Not a directory\n",
        "    if bahasa in fn:\n",
        "      continue # Already in the correct form\n",
        "    new_name=bahasa+'_'+fn\n",
        "    print(new_name)\n",
        "    os.rename(os.path.join(basedir, fn),\n",
        "              os.path.join(basedir, new_name))"
      ]
    },
    {
      "cell_type": "markdown",
      "metadata": {
        "id": "uUIZFoTtW-f_"
      },
      "source": [
        "All Language"
      ]
    },
    {
      "cell_type": "code",
      "execution_count": 8,
      "metadata": {
        "id": "AVz0xtxftJXz"
      },
      "outputs": [],
      "source": [
        "path1 = '/content/Data-Capstone/Aksara Bali'\n",
        "path2= '/content/capstone_dataset/sunda-dataset'\n",
        "path3 = '/content/Data-Capstone/Jawa mas/v3'"
      ]
    },
    {
      "cell_type": "code",
      "execution_count": 10,
      "metadata": {
        "id": "wDZ4RG0truTm"
      },
      "outputs": [],
      "source": [
        "#rename floder bali\n",
        "folder_label(path1,'bali')\n",
        "#rename folder jawa\n",
        "for path in os.listdir(path3):\n",
        "  folder_path = os.path.join(path3,path)\n",
        "  for file in os.listdir(folder_path):\n",
        "    change_path=os.path.join(folder_path,file)\n",
        "    folder_label(change_path,'jawa')"
      ]
    },
    {
      "cell_type": "code",
      "execution_count": 11,
      "metadata": {
        "colab": {
          "base_uri": "https://localhost:8080/"
        },
        "id": "lhKxEbJsXDJR",
        "outputId": "8ede81d2-5f11-4cc8-fb1a-35e68462f2ed"
      },
      "outputs": [
        {
          "output_type": "stream",
          "name": "stdout",
          "text": [
            "                                           filepaths    labels\n",
            "0  /content/capstone_dataset/sunda-dataset/valida...  sunda_ma\n",
            "1  /content/capstone_dataset/sunda-dataset/valida...  sunda_ma\n",
            "2  /content/capstone_dataset/sunda-dataset/valida...  sunda_ma\n",
            "3  /content/capstone_dataset/sunda-dataset/valida...  sunda_ma\n",
            "4  /content/capstone_dataset/sunda-dataset/valida...  sunda_ma\n",
            "jawa_ba     138\n",
            "jawa_dha    132\n",
            "jawa_pa     132\n",
            "jawa_ca     132\n",
            "jawa_la     132\n",
            "           ... \n",
            "bali_da      45\n",
            "bali_ta      44\n",
            "bali_ba      43\n",
            "bali_ra      31\n",
            "bali_nga     27\n",
            "Name: labels, Length: 68, dtype: int64\n"
          ]
        }
      ],
      "source": [
        "filepaths=[]\n",
        "labels=[]\n",
        "\n",
        "#Input to dataset for sunda aksara\n",
        "sunda_classlist=os.listdir(path2)\n",
        "for kelas in sunda_classlist:\n",
        "    classpath=os.path.join(path2,kelas)\n",
        "    aksara_class=os.listdir(classpath)\n",
        "    for aksara in aksara_class:\n",
        "      aksara_path=os.path.join(classpath,aksara)\n",
        "      if os.path.isdir(aksara_path):\n",
        "          flist=os.listdir(aksara_path)\n",
        "          for f in flist:\n",
        "              fpath=os.path.join(aksara_path,f)\n",
        "              filepaths.append(fpath)\n",
        "              labels.append(aksara)\n",
        "#INput to dataset for bali aksara\n",
        "classlist=os.listdir(path1)\n",
        "for klass in classlist:\n",
        "    classpath=os.path.join(path1,klass)\n",
        "    if os.path.isdir(classpath):\n",
        "        flist=os.listdir(classpath)\n",
        "        for f in flist:\n",
        "            fpath=os.path.join(classpath,f)\n",
        "            filepaths.append(fpath)\n",
        "            labels.append(klass)\n",
        "#Input java aksara to dataset\n",
        "jawa_classlist=os.listdir(path3)\n",
        "for lasek in jawa_classlist:\n",
        "  kelas_path=os.path.join(path3,lasek)\n",
        "  aksara_jawa=os.listdir(kelas_path)\n",
        "  for salek in aksara_jawa:\n",
        "    listing=os.path.join(kelas_path,salek)\n",
        "    flist=os.listdir(listing)\n",
        "    for f in flist:\n",
        "      fpath=os.path.join(listing,f)\n",
        "      dir_list=os.listdir(fpath)\n",
        "      for sara in dir_list:\n",
        "        path_final=os.path.join(fpath,sara)\n",
        "        filepaths.append(path_final)\n",
        "        labels.append(f)\n",
        "\n",
        "\n",
        "\n",
        "Fseries= pd.Series(filepaths, name='filepaths')\n",
        "Lseries=pd.Series(labels, name='labels')\n",
        "df=pd.concat([Fseries, Lseries], axis=1)\n",
        "print (df.head())\n",
        "print (df['labels'].value_counts())"
      ]
    },
    {
      "cell_type": "code",
      "execution_count": 13,
      "metadata": {
        "colab": {
          "base_uri": "https://localhost:8080/"
        },
        "id": "SbEDsYd0Xy8R",
        "outputId": "685a0a0e-7774-4134-a95b-c5f2ea3835d0"
      },
      "outputs": [
        {
          "output_type": "stream",
          "name": "stdout",
          "text": [
            "train_df length:  4993   test_df length:  1069   valid_df length:  1071\n"
          ]
        }
      ],
      "source": [
        "train_split=0.7\n",
        "test_split=0.15\n",
        "dummy_split=test_split/(1-train_split)\n",
        "train_df, dummy_df=train_test_split(df, train_size=train_split, shuffle=True, random_state=123)\n",
        "test_df, valid_df=train_test_split(dummy_df, train_size=dummy_split, shuffle=True, random_state=123)\n",
        "print ('train_df length: ', len(train_df), '  test_df length: ', len(test_df), '  valid_df length: ', len(valid_df))"
      ]
    },
    {
      "cell_type": "code",
      "execution_count": 14,
      "metadata": {
        "colab": {
          "base_uri": "https://localhost:8080/"
        },
        "id": "b0dj66iSokSQ",
        "outputId": "71ac4889-6555-4e39-e585-f1603bf5b991"
      },
      "outputs": [
        {
          "output_type": "execute_result",
          "data": {
            "text/plain": [
              "68"
            ]
          },
          "metadata": {},
          "execution_count": 14
        }
      ],
      "source": [
        "(train_df['labels'].nunique())"
      ]
    },
    {
      "cell_type": "code",
      "execution_count": 15,
      "metadata": {
        "colab": {
          "base_uri": "https://localhost:8080/"
        },
        "id": "T1pzle6KX5q3",
        "outputId": "bee74054-98f5-4213-9351-a22d7d953c6e"
      },
      "outputs": [
        {
          "output_type": "stream",
          "name": "stdout",
          "text": [
            "test batch size:  1   test steps:  1069\n",
            "Found 4993 validated image filenames belonging to 68 classes.\n",
            "Found 1071 validated image filenames belonging to 68 classes.\n",
            "Found 1069 validated image filenames belonging to 68 classes.\n",
            "['bali_ba', 'bali_ca', 'bali_da', 'bali_ga', 'bali_ha', 'bali_ja', 'bali_ka', 'bali_la', 'bali_ma', 'bali_na', 'bali_nga', 'bali_nya', 'bali_pa', 'bali_ra', 'bali_sa', 'bali_ta', 'bali_wa', 'bali_ya', 'jawa_ba', 'jawa_ca', 'jawa_da', 'jawa_dha', 'jawa_ga', 'jawa_ha', 'jawa_ja', 'jawa_ka', 'jawa_la', 'jawa_ma', 'jawa_na', 'jawa_nga', 'jawa_nya', 'jawa_pa', 'jawa_ra', 'jawa_sa', 'jawa_ta', 'jawa_tha', 'jawa_wa', 'jawa_ya', 'sunda_a', 'sunda_ae', 'sunda_ba', 'sunda_ca', 'sunda_da', 'sunda_e', 'sunda_eu', 'sunda_fa', 'sunda_ga', 'sunda_ha', 'sunda_i', 'sunda_ja', 'sunda_ka', 'sunda_la', 'sunda_ma', 'sunda_na', 'sunda_nga', 'sunda_nya', 'sunda_o', 'sunda_pa', 'sunda_qa', 'sunda_ra', 'sunda_sa', 'sunda_ta', 'sunda_u', 'sunda_va', 'sunda_wa', 'sunda_xa', 'sunda_ya', 'sunda_za']\n"
          ]
        }
      ],
      "source": [
        "height=150\n",
        "width=150\n",
        "channels=2\n",
        "batch_size=64\n",
        "\n",
        "img_shape=(height, width,channels)\n",
        "img_size=(height, width)\n",
        "length=len(test_df)\n",
        "test_batch_size=sorted([int(length/n) for n in range(1,length+1) if length % n ==0 and length/n<=80],reverse=True)[0]\n",
        "test_steps=int(length/test_batch_size)\n",
        "print ( 'test batch size: ' ,test_batch_size, '  test steps: ', test_steps)\n",
        "\n",
        "gen=ImageDataGenerator(\n",
        "    rescale=1./255,\n",
        "    rotation_range=40,\n",
        "    zoom_range=0.2,\n",
        "    fill_mode='nearest'\n",
        "    )\n",
        "train_gen=gen.flow_from_dataframe(train_df, x_col='filepaths', y_col='labels', target_size=img_size, class_mode='categorical',\n",
        "                                     shuffle=True, batch_size=batch_size)\n",
        "\n",
        "validgen=ImageDataGenerator(rescale=1./255)\n",
        "valid_gen=validgen.flow_from_dataframe(valid_df, x_col='filepaths', y_col='labels', target_size=img_size, class_mode='categorical',\n",
        "                                      shuffle=True, batch_size=batch_size)\n",
        "\n",
        "testgen=ImageDataGenerator(rescale=1./255)\n",
        "test_gen=testgen.flow_from_dataframe(test_df, x_col='filepaths', y_col='labels', target_size=img_size, class_mode='categorical',\n",
        "                                     shuffle=False, batch_size=test_batch_size)\n",
        "\n",
        "classes=list(train_gen.class_indices.keys())\n",
        "print (classes)\n",
        "class_count=len(classes)\n"
      ]
    },
    {
      "cell_type": "code",
      "execution_count": 16,
      "metadata": {
        "id": "CAByg0_9bxqB"
      },
      "outputs": [],
      "source": [
        "model_name='Combined+Jawa'\n",
        "model = tf.keras.Sequential([\n",
        "            tf.keras.layers.Conv2D(32, (3,3), activation='relu', input_shape=(150, 150, 3)),\n",
        "            tf.keras.layers.MaxPool2D(pool_size=2, strides=2),\n",
        "            tf.keras.layers.Conv2D(32, (3,3), activation= 'relu'),\n",
        "            tf.keras.layers.MaxPooling2D(2,2),\n",
        "            tf.keras.layers.Conv2D(64, (3,3), activation= 'relu'),\n",
        "            tf.keras.layers.MaxPooling2D(2,2),\n",
        "            tf.keras.layers.Conv2D(128, (3,3), activation= 'relu'),\n",
        "            tf.keras.layers.MaxPooling2D(2,2),\n",
        "            tf.keras.layers.Flatten(),\n",
        "            tf.keras.layers.Dropout(rate=0.5),\n",
        "            tf.keras.layers.Dense(128,activation='relu'),\n",
        "            tf.keras.layers.Dense(68, activation='softmax')\n",
        "])\n",
        "\n",
        "model.compile(optimizer=tf.keras.optimizers.Adam(learning_rate=.0001), loss='categorical_crossentropy', metrics='accuracy')"
      ]
    },
    {
      "cell_type": "code",
      "execution_count": 17,
      "metadata": {
        "colab": {
          "base_uri": "https://localhost:8080/"
        },
        "id": "s5IauzaMb1wS",
        "outputId": "7e3c6667-9397-4169-8425-6fbfce815920"
      },
      "outputs": [
        {
          "output_type": "stream",
          "name": "stdout",
          "text": [
            "Model: \"sequential\"\n",
            "_________________________________________________________________\n",
            " Layer (type)                Output Shape              Param #   \n",
            "=================================================================\n",
            " conv2d (Conv2D)             (None, 148, 148, 32)      896       \n",
            "                                                                 \n",
            " max_pooling2d (MaxPooling2  (None, 74, 74, 32)        0         \n",
            " D)                                                              \n",
            "                                                                 \n",
            " conv2d_1 (Conv2D)           (None, 72, 72, 32)        9248      \n",
            "                                                                 \n",
            " max_pooling2d_1 (MaxPoolin  (None, 36, 36, 32)        0         \n",
            " g2D)                                                            \n",
            "                                                                 \n",
            " conv2d_2 (Conv2D)           (None, 34, 34, 64)        18496     \n",
            "                                                                 \n",
            " max_pooling2d_2 (MaxPoolin  (None, 17, 17, 64)        0         \n",
            " g2D)                                                            \n",
            "                                                                 \n",
            " conv2d_3 (Conv2D)           (None, 15, 15, 128)       73856     \n",
            "                                                                 \n",
            " max_pooling2d_3 (MaxPoolin  (None, 7, 7, 128)         0         \n",
            " g2D)                                                            \n",
            "                                                                 \n",
            " flatten (Flatten)           (None, 6272)              0         \n",
            "                                                                 \n",
            " dropout (Dropout)           (None, 6272)              0         \n",
            "                                                                 \n",
            " dense (Dense)               (None, 128)               802944    \n",
            "                                                                 \n",
            " dense_1 (Dense)             (None, 68)                8772      \n",
            "                                                                 \n",
            "=================================================================\n",
            "Total params: 914212 (3.49 MB)\n",
            "Trainable params: 914212 (3.49 MB)\n",
            "Non-trainable params: 0 (0.00 Byte)\n",
            "_________________________________________________________________\n"
          ]
        }
      ],
      "source": [
        "model.summary()"
      ]
    },
    {
      "cell_type": "code",
      "execution_count": 19,
      "metadata": {
        "id": "R9YCo2QSGS5w"
      },
      "outputs": [],
      "source": [
        "class myCallback(tf.keras.callbacks.Callback):\n",
        "  def on_epoch_end(self, epoch, logs={}):\n",
        "    if logs.get('accuracy')>0.95 and logs.get('val_accuracy')>0.92:\n",
        "      self.model.stop_training=True"
      ]
    },
    {
      "cell_type": "code",
      "execution_count": 20,
      "metadata": {
        "colab": {
          "base_uri": "https://localhost:8080/"
        },
        "id": "63WvCYyDb9by",
        "outputId": "d7376ba1-c240-4eec-d17d-062ad859525a"
      },
      "outputs": [
        {
          "output_type": "stream",
          "name": "stdout",
          "text": [
            "Epoch 1/500\n",
            "79/79 [==============================] - 40s 425ms/step - loss: 4.1535 - accuracy: 0.0238 - val_loss: 4.0224 - val_accuracy: 0.0383\n",
            "Epoch 2/500\n",
            "79/79 [==============================] - 33s 413ms/step - loss: 3.7512 - accuracy: 0.0601 - val_loss: 3.2755 - val_accuracy: 0.1289\n",
            "Epoch 3/500\n",
            "79/79 [==============================] - 32s 408ms/step - loss: 3.1509 - accuracy: 0.1216 - val_loss: 2.7962 - val_accuracy: 0.2213\n",
            "Epoch 4/500\n",
            "79/79 [==============================] - 32s 410ms/step - loss: 2.8999 - accuracy: 0.1670 - val_loss: 2.6085 - val_accuracy: 0.2754\n",
            "Epoch 5/500\n",
            "79/79 [==============================] - 34s 435ms/step - loss: 2.7362 - accuracy: 0.2169 - val_loss: 2.5388 - val_accuracy: 0.3007\n",
            "Epoch 6/500\n",
            "79/79 [==============================] - 33s 416ms/step - loss: 2.6418 - accuracy: 0.2483 - val_loss: 2.4209 - val_accuracy: 0.3249\n",
            "Epoch 7/500\n",
            "79/79 [==============================] - 32s 403ms/step - loss: 2.5663 - accuracy: 0.2590 - val_loss: 2.3246 - val_accuracy: 0.3464\n",
            "Epoch 8/500\n",
            "79/79 [==============================] - 31s 396ms/step - loss: 2.4709 - accuracy: 0.2898 - val_loss: 2.2850 - val_accuracy: 0.3688\n",
            "Epoch 9/500\n",
            "79/79 [==============================] - 33s 418ms/step - loss: 2.4373 - accuracy: 0.2908 - val_loss: 2.1822 - val_accuracy: 0.3987\n",
            "Epoch 10/500\n",
            "79/79 [==============================] - 32s 400ms/step - loss: 2.3702 - accuracy: 0.3233 - val_loss: 2.1411 - val_accuracy: 0.4062\n",
            "Epoch 11/500\n",
            "79/79 [==============================] - 32s 408ms/step - loss: 2.3226 - accuracy: 0.3329 - val_loss: 2.1933 - val_accuracy: 0.3894\n",
            "Epoch 12/500\n",
            "79/79 [==============================] - 34s 427ms/step - loss: 2.2829 - accuracy: 0.3499 - val_loss: 2.1027 - val_accuracy: 0.4164\n",
            "Epoch 13/500\n",
            "79/79 [==============================] - 31s 398ms/step - loss: 2.2099 - accuracy: 0.3681 - val_loss: 2.0907 - val_accuracy: 0.4071\n",
            "Epoch 14/500\n",
            "79/79 [==============================] - 33s 417ms/step - loss: 2.1688 - accuracy: 0.3729 - val_loss: 2.0849 - val_accuracy: 0.4286\n",
            "Epoch 15/500\n",
            "79/79 [==============================] - 31s 395ms/step - loss: 2.0943 - accuracy: 0.4032 - val_loss: 1.9560 - val_accuracy: 0.4538\n",
            "Epoch 16/500\n",
            "79/79 [==============================] - 32s 411ms/step - loss: 2.0445 - accuracy: 0.4142 - val_loss: 1.8915 - val_accuracy: 0.4650\n",
            "Epoch 17/500\n",
            "79/79 [==============================] - 31s 396ms/step - loss: 1.9999 - accuracy: 0.4304 - val_loss: 1.8983 - val_accuracy: 0.4622\n",
            "Epoch 18/500\n",
            "79/79 [==============================] - 31s 398ms/step - loss: 1.9892 - accuracy: 0.4378 - val_loss: 1.8219 - val_accuracy: 0.4949\n",
            "Epoch 19/500\n",
            "79/79 [==============================] - 33s 412ms/step - loss: 1.9420 - accuracy: 0.4450 - val_loss: 1.7463 - val_accuracy: 0.4939\n",
            "Epoch 20/500\n",
            "79/79 [==============================] - 31s 397ms/step - loss: 1.8710 - accuracy: 0.4624 - val_loss: 1.6215 - val_accuracy: 0.5415\n",
            "Epoch 21/500\n",
            "79/79 [==============================] - 33s 419ms/step - loss: 1.8503 - accuracy: 0.4695 - val_loss: 1.7657 - val_accuracy: 0.5098\n",
            "Epoch 22/500\n",
            "79/79 [==============================] - 33s 422ms/step - loss: 1.8244 - accuracy: 0.4737 - val_loss: 1.5515 - val_accuracy: 0.5640\n",
            "Epoch 23/500\n",
            "79/79 [==============================] - 32s 412ms/step - loss: 1.8205 - accuracy: 0.4751 - val_loss: 1.5609 - val_accuracy: 0.5686\n",
            "Epoch 24/500\n",
            "79/79 [==============================] - 31s 392ms/step - loss: 1.7327 - accuracy: 0.5085 - val_loss: 1.4385 - val_accuracy: 0.5985\n",
            "Epoch 25/500\n",
            "79/79 [==============================] - 33s 415ms/step - loss: 1.6863 - accuracy: 0.5141 - val_loss: 1.4501 - val_accuracy: 0.6200\n",
            "Epoch 26/500\n",
            "79/79 [==============================] - 32s 400ms/step - loss: 1.6492 - accuracy: 0.5237 - val_loss: 1.3730 - val_accuracy: 0.6256\n",
            "Epoch 27/500\n",
            "79/79 [==============================] - 33s 417ms/step - loss: 1.6145 - accuracy: 0.5430 - val_loss: 1.3804 - val_accuracy: 0.5966\n",
            "Epoch 28/500\n",
            "79/79 [==============================] - 33s 422ms/step - loss: 1.5649 - accuracy: 0.5500 - val_loss: 1.2908 - val_accuracy: 0.6415\n",
            "Epoch 29/500\n",
            "79/79 [==============================] - 33s 419ms/step - loss: 1.5416 - accuracy: 0.5522 - val_loss: 1.2654 - val_accuracy: 0.6461\n",
            "Epoch 30/500\n",
            "79/79 [==============================] - 31s 397ms/step - loss: 1.5054 - accuracy: 0.5602 - val_loss: 1.2144 - val_accuracy: 0.6592\n",
            "Epoch 31/500\n",
            "79/79 [==============================] - 32s 408ms/step - loss: 1.4961 - accuracy: 0.5722 - val_loss: 1.2327 - val_accuracy: 0.6639\n",
            "Epoch 32/500\n",
            "79/79 [==============================] - 31s 396ms/step - loss: 1.4600 - accuracy: 0.5812 - val_loss: 1.1340 - val_accuracy: 0.6835\n",
            "Epoch 33/500\n",
            "79/79 [==============================] - 32s 411ms/step - loss: 1.4041 - accuracy: 0.5926 - val_loss: 1.1992 - val_accuracy: 0.6545\n",
            "Epoch 34/500\n",
            "79/79 [==============================] - 32s 398ms/step - loss: 1.3700 - accuracy: 0.5998 - val_loss: 1.1342 - val_accuracy: 0.6816\n",
            "Epoch 35/500\n",
            "79/79 [==============================] - 33s 417ms/step - loss: 1.3769 - accuracy: 0.6018 - val_loss: 1.0795 - val_accuracy: 0.7040\n",
            "Epoch 36/500\n",
            "79/79 [==============================] - 33s 413ms/step - loss: 1.3284 - accuracy: 0.6129 - val_loss: 1.0379 - val_accuracy: 0.7012\n",
            "Epoch 37/500\n",
            "79/79 [==============================] - 32s 402ms/step - loss: 1.3049 - accuracy: 0.6125 - val_loss: 0.9959 - val_accuracy: 0.7124\n",
            "Epoch 38/500\n",
            "79/79 [==============================] - 35s 440ms/step - loss: 1.2530 - accuracy: 0.6335 - val_loss: 1.0340 - val_accuracy: 0.6984\n",
            "Epoch 39/500\n",
            "79/79 [==============================] - 32s 403ms/step - loss: 1.2502 - accuracy: 0.6397 - val_loss: 0.9694 - val_accuracy: 0.7171\n",
            "Epoch 40/500\n",
            "79/79 [==============================] - 34s 427ms/step - loss: 1.2555 - accuracy: 0.6339 - val_loss: 0.9414 - val_accuracy: 0.7274\n",
            "Epoch 41/500\n",
            "79/79 [==============================] - 32s 405ms/step - loss: 1.2459 - accuracy: 0.6283 - val_loss: 0.9281 - val_accuracy: 0.7442\n",
            "Epoch 42/500\n",
            "79/79 [==============================] - 33s 418ms/step - loss: 1.2006 - accuracy: 0.6439 - val_loss: 0.8883 - val_accuracy: 0.7376\n",
            "Epoch 43/500\n",
            "79/79 [==============================] - 33s 415ms/step - loss: 1.1335 - accuracy: 0.6697 - val_loss: 0.9056 - val_accuracy: 0.7348\n",
            "Epoch 44/500\n",
            "79/79 [==============================] - 33s 419ms/step - loss: 1.1730 - accuracy: 0.6617 - val_loss: 0.8629 - val_accuracy: 0.7404\n",
            "Epoch 45/500\n",
            "79/79 [==============================] - 32s 400ms/step - loss: 1.1032 - accuracy: 0.6753 - val_loss: 0.8395 - val_accuracy: 0.7432\n",
            "Epoch 46/500\n",
            "79/79 [==============================] - 31s 399ms/step - loss: 1.1016 - accuracy: 0.6751 - val_loss: 1.0142 - val_accuracy: 0.6956\n",
            "Epoch 47/500\n",
            "79/79 [==============================] - 33s 415ms/step - loss: 1.1113 - accuracy: 0.6683 - val_loss: 0.8360 - val_accuracy: 0.7563\n",
            "Epoch 48/500\n",
            "79/79 [==============================] - 31s 398ms/step - loss: 1.0726 - accuracy: 0.6806 - val_loss: 0.8117 - val_accuracy: 0.7516\n",
            "Epoch 49/500\n",
            "79/79 [==============================] - 33s 417ms/step - loss: 1.0634 - accuracy: 0.6792 - val_loss: 0.8003 - val_accuracy: 0.7535\n",
            "Epoch 50/500\n",
            "79/79 [==============================] - 33s 416ms/step - loss: 1.0388 - accuracy: 0.6880 - val_loss: 0.8056 - val_accuracy: 0.7656\n",
            "Epoch 51/500\n",
            "79/79 [==============================] - 31s 398ms/step - loss: 1.0186 - accuracy: 0.6966 - val_loss: 0.8478 - val_accuracy: 0.7507\n",
            "Epoch 52/500\n",
            "79/79 [==============================] - 32s 405ms/step - loss: 0.9941 - accuracy: 0.7036 - val_loss: 0.8713 - val_accuracy: 0.7451\n",
            "Epoch 53/500\n",
            "79/79 [==============================] - 35s 441ms/step - loss: 0.9765 - accuracy: 0.7030 - val_loss: 0.7577 - val_accuracy: 0.7703\n",
            "Epoch 54/500\n",
            "79/79 [==============================] - 31s 396ms/step - loss: 0.9310 - accuracy: 0.7176 - val_loss: 0.7687 - val_accuracy: 0.7675\n",
            "Epoch 55/500\n",
            "79/79 [==============================] - 33s 416ms/step - loss: 0.9458 - accuracy: 0.7164 - val_loss: 0.7576 - val_accuracy: 0.7712\n",
            "Epoch 56/500\n",
            "79/79 [==============================] - 32s 406ms/step - loss: 0.9356 - accuracy: 0.7204 - val_loss: 0.7485 - val_accuracy: 0.7731\n",
            "Epoch 57/500\n",
            "79/79 [==============================] - 31s 395ms/step - loss: 0.8926 - accuracy: 0.7262 - val_loss: 0.7506 - val_accuracy: 0.7815\n",
            "Epoch 58/500\n",
            "79/79 [==============================] - 33s 422ms/step - loss: 0.8924 - accuracy: 0.7338 - val_loss: 0.6963 - val_accuracy: 0.7843\n",
            "Epoch 59/500\n",
            "79/79 [==============================] - 31s 396ms/step - loss: 0.9364 - accuracy: 0.7146 - val_loss: 0.7120 - val_accuracy: 0.7806\n",
            "Epoch 60/500\n",
            "79/79 [==============================] - 33s 419ms/step - loss: 0.8952 - accuracy: 0.7278 - val_loss: 0.7159 - val_accuracy: 0.7843\n",
            "Epoch 61/500\n",
            "79/79 [==============================] - 31s 397ms/step - loss: 0.8850 - accuracy: 0.7360 - val_loss: 0.7006 - val_accuracy: 0.7890\n",
            "Epoch 62/500\n",
            "79/79 [==============================] - 32s 410ms/step - loss: 0.9297 - accuracy: 0.7280 - val_loss: 0.6687 - val_accuracy: 0.7993\n",
            "Epoch 63/500\n",
            "79/79 [==============================] - 32s 400ms/step - loss: 0.8653 - accuracy: 0.7396 - val_loss: 0.6617 - val_accuracy: 0.7908\n",
            "Epoch 64/500\n",
            "79/79 [==============================] - 33s 416ms/step - loss: 0.8866 - accuracy: 0.7360 - val_loss: 0.6539 - val_accuracy: 0.8030\n",
            "Epoch 65/500\n",
            "79/79 [==============================] - 33s 412ms/step - loss: 0.8295 - accuracy: 0.7559 - val_loss: 0.7319 - val_accuracy: 0.7824\n",
            "Epoch 66/500\n",
            "79/79 [==============================] - 31s 399ms/step - loss: 0.8187 - accuracy: 0.7490 - val_loss: 0.6440 - val_accuracy: 0.8058\n",
            "Epoch 67/500\n",
            "79/79 [==============================] - 32s 410ms/step - loss: 0.8131 - accuracy: 0.7525 - val_loss: 0.6738 - val_accuracy: 0.8030\n",
            "Epoch 68/500\n",
            "79/79 [==============================] - 32s 400ms/step - loss: 0.8055 - accuracy: 0.7621 - val_loss: 0.6780 - val_accuracy: 0.8030\n",
            "Epoch 69/500\n",
            "79/79 [==============================] - 31s 395ms/step - loss: 0.9019 - accuracy: 0.7274 - val_loss: 0.9830 - val_accuracy: 0.7367\n",
            "Epoch 70/500\n",
            "79/79 [==============================] - 35s 437ms/step - loss: 0.8827 - accuracy: 0.7398 - val_loss: 0.6571 - val_accuracy: 0.8011\n",
            "Epoch 71/500\n",
            "79/79 [==============================] - 31s 398ms/step - loss: 0.7729 - accuracy: 0.7687 - val_loss: 0.6485 - val_accuracy: 0.8105\n",
            "Epoch 72/500\n",
            "79/79 [==============================] - 33s 411ms/step - loss: 0.7906 - accuracy: 0.7669 - val_loss: 0.6256 - val_accuracy: 0.8086\n",
            "Epoch 73/500\n",
            "79/79 [==============================] - 31s 396ms/step - loss: 0.7633 - accuracy: 0.7633 - val_loss: 0.6420 - val_accuracy: 0.8049\n",
            "Epoch 74/500\n",
            "79/79 [==============================] - 33s 420ms/step - loss: 0.7792 - accuracy: 0.7631 - val_loss: 0.5973 - val_accuracy: 0.8207\n",
            "Epoch 75/500\n",
            "79/79 [==============================] - 32s 403ms/step - loss: 0.7620 - accuracy: 0.7709 - val_loss: 0.6008 - val_accuracy: 0.8189\n",
            "Epoch 76/500\n",
            "79/79 [==============================] - 31s 395ms/step - loss: 0.7391 - accuracy: 0.7773 - val_loss: 0.5921 - val_accuracy: 0.8310\n",
            "Epoch 77/500\n",
            "79/79 [==============================] - 32s 411ms/step - loss: 0.7246 - accuracy: 0.7829 - val_loss: 0.6378 - val_accuracy: 0.7983\n",
            "Epoch 78/500\n",
            "79/79 [==============================] - 32s 401ms/step - loss: 0.7260 - accuracy: 0.7799 - val_loss: 0.6376 - val_accuracy: 0.7983\n",
            "Epoch 79/500\n",
            "79/79 [==============================] - 33s 415ms/step - loss: 0.7275 - accuracy: 0.7793 - val_loss: 0.5740 - val_accuracy: 0.8329\n",
            "Epoch 80/500\n",
            "79/79 [==============================] - 31s 395ms/step - loss: 0.6641 - accuracy: 0.7985 - val_loss: 0.5777 - val_accuracy: 0.8226\n",
            "Epoch 81/500\n",
            "79/79 [==============================] - 31s 395ms/step - loss: 0.7052 - accuracy: 0.7883 - val_loss: 0.6309 - val_accuracy: 0.8142\n",
            "Epoch 82/500\n",
            "79/79 [==============================] - 33s 418ms/step - loss: 0.7214 - accuracy: 0.7815 - val_loss: 0.5870 - val_accuracy: 0.8310\n",
            "Epoch 83/500\n",
            "79/79 [==============================] - 32s 399ms/step - loss: 0.6793 - accuracy: 0.7897 - val_loss: 0.5732 - val_accuracy: 0.8375\n",
            "Epoch 84/500\n",
            "79/79 [==============================] - 32s 407ms/step - loss: 0.6788 - accuracy: 0.7945 - val_loss: 0.5967 - val_accuracy: 0.8282\n",
            "Epoch 85/500\n",
            "79/79 [==============================] - 31s 393ms/step - loss: 0.6807 - accuracy: 0.7869 - val_loss: 0.5833 - val_accuracy: 0.8347\n",
            "Epoch 86/500\n",
            "79/79 [==============================] - 32s 400ms/step - loss: 0.6538 - accuracy: 0.8019 - val_loss: 0.5652 - val_accuracy: 0.8347\n",
            "Epoch 87/500\n",
            "79/79 [==============================] - 34s 431ms/step - loss: 0.6519 - accuracy: 0.8069 - val_loss: 0.5480 - val_accuracy: 0.8450\n",
            "Epoch 88/500\n",
            "79/79 [==============================] - 33s 414ms/step - loss: 0.6279 - accuracy: 0.8061 - val_loss: 0.5418 - val_accuracy: 0.8459\n",
            "Epoch 89/500\n",
            "79/79 [==============================] - 31s 397ms/step - loss: 0.6458 - accuracy: 0.7997 - val_loss: 0.5516 - val_accuracy: 0.8478\n",
            "Epoch 90/500\n",
            "79/79 [==============================] - 31s 395ms/step - loss: 0.6090 - accuracy: 0.8211 - val_loss: 0.5330 - val_accuracy: 0.8553\n",
            "Epoch 91/500\n",
            "79/79 [==============================] - 33s 410ms/step - loss: 0.6189 - accuracy: 0.8129 - val_loss: 0.5708 - val_accuracy: 0.8310\n",
            "Epoch 92/500\n",
            "79/79 [==============================] - 33s 416ms/step - loss: 0.7592 - accuracy: 0.7721 - val_loss: 0.5710 - val_accuracy: 0.8301\n",
            "Epoch 93/500\n",
            "79/79 [==============================] - 31s 393ms/step - loss: 0.6522 - accuracy: 0.8023 - val_loss: 0.5453 - val_accuracy: 0.8394\n",
            "Epoch 94/500\n",
            "79/79 [==============================] - 33s 415ms/step - loss: 0.6096 - accuracy: 0.8119 - val_loss: 0.5551 - val_accuracy: 0.8478\n",
            "Epoch 95/500\n",
            "79/79 [==============================] - 31s 391ms/step - loss: 0.5907 - accuracy: 0.8205 - val_loss: 0.5328 - val_accuracy: 0.8525\n",
            "Epoch 96/500\n",
            "79/79 [==============================] - 34s 430ms/step - loss: 0.6210 - accuracy: 0.8143 - val_loss: 0.6234 - val_accuracy: 0.8161\n",
            "Epoch 97/500\n",
            "79/79 [==============================] - 32s 400ms/step - loss: 0.6264 - accuracy: 0.8125 - val_loss: 0.5258 - val_accuracy: 0.8497\n",
            "Epoch 98/500\n",
            "79/79 [==============================] - 32s 401ms/step - loss: 0.5823 - accuracy: 0.8203 - val_loss: 0.5004 - val_accuracy: 0.8627\n",
            "Epoch 99/500\n",
            "79/79 [==============================] - 32s 402ms/step - loss: 0.5767 - accuracy: 0.8262 - val_loss: 0.5147 - val_accuracy: 0.8459\n",
            "Epoch 100/500\n",
            "79/79 [==============================] - 33s 422ms/step - loss: 0.5637 - accuracy: 0.8288 - val_loss: 0.5070 - val_accuracy: 0.8469\n",
            "Epoch 101/500\n",
            "79/79 [==============================] - 32s 405ms/step - loss: 0.5468 - accuracy: 0.8338 - val_loss: 0.4992 - val_accuracy: 0.8571\n",
            "Epoch 102/500\n",
            "79/79 [==============================] - 32s 405ms/step - loss: 0.5582 - accuracy: 0.8252 - val_loss: 0.5057 - val_accuracy: 0.8525\n",
            "Epoch 103/500\n",
            "79/79 [==============================] - 33s 424ms/step - loss: 0.5690 - accuracy: 0.8272 - val_loss: 0.4794 - val_accuracy: 0.8581\n",
            "Epoch 104/500\n",
            "79/79 [==============================] - 32s 407ms/step - loss: 0.6415 - accuracy: 0.8007 - val_loss: 0.4946 - val_accuracy: 0.8609\n",
            "Epoch 105/500\n",
            "79/79 [==============================] - 34s 437ms/step - loss: 0.5724 - accuracy: 0.8298 - val_loss: 0.5303 - val_accuracy: 0.8450\n",
            "Epoch 106/500\n",
            "79/79 [==============================] - 33s 412ms/step - loss: 0.5826 - accuracy: 0.8234 - val_loss: 0.5034 - val_accuracy: 0.8525\n",
            "Epoch 107/500\n",
            "79/79 [==============================] - 31s 394ms/step - loss: 0.5518 - accuracy: 0.8310 - val_loss: 0.4840 - val_accuracy: 0.8609\n",
            "Epoch 108/500\n",
            "79/79 [==============================] - 35s 438ms/step - loss: 0.7430 - accuracy: 0.7861 - val_loss: 0.5000 - val_accuracy: 0.8590\n",
            "Epoch 109/500\n",
            "79/79 [==============================] - 31s 397ms/step - loss: 0.5257 - accuracy: 0.8444 - val_loss: 0.5010 - val_accuracy: 0.8553\n",
            "Epoch 110/500\n",
            "79/79 [==============================] - 31s 397ms/step - loss: 0.5347 - accuracy: 0.8356 - val_loss: 0.4845 - val_accuracy: 0.8562\n",
            "Epoch 111/500\n",
            "79/79 [==============================] - 33s 413ms/step - loss: 0.5163 - accuracy: 0.8380 - val_loss: 0.4998 - val_accuracy: 0.8553\n",
            "Epoch 112/500\n",
            "79/79 [==============================] - 31s 398ms/step - loss: 0.4948 - accuracy: 0.8468 - val_loss: 0.5385 - val_accuracy: 0.8553\n",
            "Epoch 113/500\n",
            "79/79 [==============================] - 31s 394ms/step - loss: 0.5075 - accuracy: 0.8528 - val_loss: 0.4927 - val_accuracy: 0.8543\n",
            "Epoch 114/500\n",
            "79/79 [==============================] - 33s 414ms/step - loss: 0.4795 - accuracy: 0.8510 - val_loss: 0.4994 - val_accuracy: 0.8655\n",
            "Epoch 115/500\n",
            "79/79 [==============================] - 31s 397ms/step - loss: 0.5014 - accuracy: 0.8456 - val_loss: 0.4861 - val_accuracy: 0.8655\n",
            "Epoch 116/500\n",
            "79/79 [==============================] - 32s 402ms/step - loss: 0.5929 - accuracy: 0.8199 - val_loss: 0.5170 - val_accuracy: 0.8487\n",
            "Epoch 117/500\n",
            "79/79 [==============================] - 33s 414ms/step - loss: 0.5299 - accuracy: 0.8436 - val_loss: 0.4761 - val_accuracy: 0.8609\n",
            "Epoch 118/500\n",
            "79/79 [==============================] - 32s 405ms/step - loss: 0.4973 - accuracy: 0.8414 - val_loss: 0.4794 - val_accuracy: 0.8674\n",
            "Epoch 119/500\n",
            "79/79 [==============================] - 33s 413ms/step - loss: 0.5034 - accuracy: 0.8418 - val_loss: 0.4715 - val_accuracy: 0.8646\n",
            "Epoch 120/500\n",
            "79/79 [==============================] - 31s 399ms/step - loss: 0.4736 - accuracy: 0.8558 - val_loss: 0.4660 - val_accuracy: 0.8730\n",
            "Epoch 121/500\n",
            "79/79 [==============================] - 33s 419ms/step - loss: 0.5015 - accuracy: 0.8490 - val_loss: 0.5133 - val_accuracy: 0.8599\n",
            "Epoch 122/500\n",
            "79/79 [==============================] - 33s 414ms/step - loss: 0.5181 - accuracy: 0.8366 - val_loss: 0.5324 - val_accuracy: 0.8506\n",
            "Epoch 123/500\n",
            "79/79 [==============================] - 31s 398ms/step - loss: 0.5049 - accuracy: 0.8408 - val_loss: 0.4792 - val_accuracy: 0.8618\n",
            "Epoch 124/500\n",
            "79/79 [==============================] - 35s 449ms/step - loss: 0.4773 - accuracy: 0.8548 - val_loss: 0.4745 - val_accuracy: 0.8749\n",
            "Epoch 125/500\n",
            "79/79 [==============================] - 32s 405ms/step - loss: 0.4463 - accuracy: 0.8602 - val_loss: 0.5126 - val_accuracy: 0.8618\n",
            "Epoch 126/500\n",
            "79/79 [==============================] - 31s 396ms/step - loss: 0.4518 - accuracy: 0.8610 - val_loss: 0.4489 - val_accuracy: 0.8786\n",
            "Epoch 127/500\n",
            "79/79 [==============================] - 33s 409ms/step - loss: 0.4606 - accuracy: 0.8632 - val_loss: 0.4526 - val_accuracy: 0.8796\n",
            "Epoch 128/500\n",
            "79/79 [==============================] - 32s 404ms/step - loss: 0.4208 - accuracy: 0.8692 - val_loss: 0.4645 - val_accuracy: 0.8739\n",
            "Epoch 129/500\n",
            "79/79 [==============================] - 34s 433ms/step - loss: 0.4266 - accuracy: 0.8628 - val_loss: 0.4493 - val_accuracy: 0.8739\n",
            "Epoch 130/500\n",
            "79/79 [==============================] - 31s 397ms/step - loss: 0.4264 - accuracy: 0.8664 - val_loss: 0.4578 - val_accuracy: 0.8665\n",
            "Epoch 131/500\n",
            "79/79 [==============================] - 33s 417ms/step - loss: 0.5376 - accuracy: 0.8408 - val_loss: 0.7478 - val_accuracy: 0.7759\n",
            "Epoch 132/500\n",
            "79/79 [==============================] - 32s 402ms/step - loss: 0.5877 - accuracy: 0.8254 - val_loss: 0.5255 - val_accuracy: 0.8506\n",
            "Epoch 133/500\n",
            "79/79 [==============================] - 33s 415ms/step - loss: 0.4753 - accuracy: 0.8564 - val_loss: 0.4355 - val_accuracy: 0.8739\n",
            "Epoch 134/500\n",
            "79/79 [==============================] - 32s 411ms/step - loss: 0.4178 - accuracy: 0.8688 - val_loss: 0.4656 - val_accuracy: 0.8711\n",
            "Epoch 135/500\n",
            "79/79 [==============================] - 31s 396ms/step - loss: 0.4207 - accuracy: 0.8686 - val_loss: 0.4460 - val_accuracy: 0.8814\n",
            "Epoch 136/500\n",
            "79/79 [==============================] - 33s 413ms/step - loss: 0.4079 - accuracy: 0.8740 - val_loss: 0.4242 - val_accuracy: 0.8833\n",
            "Epoch 137/500\n",
            "79/79 [==============================] - 32s 403ms/step - loss: 0.4172 - accuracy: 0.8692 - val_loss: 0.4486 - val_accuracy: 0.8758\n",
            "Epoch 138/500\n",
            "79/79 [==============================] - 31s 392ms/step - loss: 0.4139 - accuracy: 0.8716 - val_loss: 0.4563 - val_accuracy: 0.8730\n",
            "Epoch 139/500\n",
            "79/79 [==============================] - 33s 421ms/step - loss: 0.4008 - accuracy: 0.8750 - val_loss: 0.4589 - val_accuracy: 0.8758\n",
            "Epoch 140/500\n",
            "79/79 [==============================] - 33s 420ms/step - loss: 0.4135 - accuracy: 0.8694 - val_loss: 0.5272 - val_accuracy: 0.8534\n",
            "Epoch 141/500\n",
            "79/79 [==============================] - 32s 411ms/step - loss: 0.3971 - accuracy: 0.8746 - val_loss: 0.4444 - val_accuracy: 0.8824\n",
            "Epoch 142/500\n",
            "79/79 [==============================] - 31s 391ms/step - loss: 0.4025 - accuracy: 0.8784 - val_loss: 0.4907 - val_accuracy: 0.8711\n",
            "Epoch 143/500\n",
            "79/79 [==============================] - 33s 421ms/step - loss: 0.3986 - accuracy: 0.8800 - val_loss: 0.4293 - val_accuracy: 0.8824\n",
            "Epoch 144/500\n",
            "79/79 [==============================] - 31s 398ms/step - loss: 0.3787 - accuracy: 0.8820 - val_loss: 0.4623 - val_accuracy: 0.8702\n",
            "Epoch 145/500\n",
            "79/79 [==============================] - 31s 397ms/step - loss: 0.4009 - accuracy: 0.8752 - val_loss: 0.4863 - val_accuracy: 0.8646\n",
            "Epoch 146/500\n",
            "79/79 [==============================] - 32s 405ms/step - loss: 0.4060 - accuracy: 0.8760 - val_loss: 0.4291 - val_accuracy: 0.8786\n",
            "Epoch 147/500\n",
            "79/79 [==============================] - 31s 397ms/step - loss: 0.3923 - accuracy: 0.8732 - val_loss: 0.4575 - val_accuracy: 0.8693\n",
            "Epoch 148/500\n",
            "79/79 [==============================] - 33s 413ms/step - loss: 0.3597 - accuracy: 0.8874 - val_loss: 0.4434 - val_accuracy: 0.8730\n",
            "Epoch 149/500\n",
            "79/79 [==============================] - 32s 400ms/step - loss: 0.3834 - accuracy: 0.8810 - val_loss: 0.4220 - val_accuracy: 0.8786\n",
            "Epoch 150/500\n",
            "79/79 [==============================] - 31s 396ms/step - loss: 0.3670 - accuracy: 0.8834 - val_loss: 0.4374 - val_accuracy: 0.8749\n",
            "Epoch 151/500\n",
            "79/79 [==============================] - 33s 416ms/step - loss: 0.3835 - accuracy: 0.8772 - val_loss: 0.4357 - val_accuracy: 0.8730\n",
            "Epoch 152/500\n",
            "79/79 [==============================] - 31s 392ms/step - loss: 0.3715 - accuracy: 0.8882 - val_loss: 0.4537 - val_accuracy: 0.8693\n",
            "Epoch 153/500\n",
            "79/79 [==============================] - 33s 413ms/step - loss: 0.3531 - accuracy: 0.8898 - val_loss: 0.4818 - val_accuracy: 0.8674\n",
            "Epoch 154/500\n",
            "79/79 [==============================] - 31s 393ms/step - loss: 0.3734 - accuracy: 0.8872 - val_loss: 0.4076 - val_accuracy: 0.8768\n",
            "Epoch 155/500\n",
            "79/79 [==============================] - 33s 412ms/step - loss: 0.3626 - accuracy: 0.8856 - val_loss: 0.4353 - val_accuracy: 0.8758\n",
            "Epoch 156/500\n",
            "79/79 [==============================] - 33s 412ms/step - loss: 0.3605 - accuracy: 0.8858 - val_loss: 0.4155 - val_accuracy: 0.8768\n",
            "Epoch 157/500\n",
            "79/79 [==============================] - 33s 421ms/step - loss: 0.3544 - accuracy: 0.8896 - val_loss: 0.4057 - val_accuracy: 0.8861\n",
            "Epoch 158/500\n",
            "79/79 [==============================] - 32s 406ms/step - loss: 0.3569 - accuracy: 0.8878 - val_loss: 0.4448 - val_accuracy: 0.8721\n",
            "Epoch 159/500\n",
            "79/79 [==============================] - 33s 412ms/step - loss: 0.3613 - accuracy: 0.8900 - val_loss: 0.4149 - val_accuracy: 0.8796\n",
            "Epoch 160/500\n",
            "79/79 [==============================] - 31s 393ms/step - loss: 0.3342 - accuracy: 0.8975 - val_loss: 0.4073 - val_accuracy: 0.8842\n",
            "Epoch 161/500\n",
            "79/79 [==============================] - 32s 408ms/step - loss: 0.3306 - accuracy: 0.8957 - val_loss: 0.4279 - val_accuracy: 0.8852\n",
            "Epoch 162/500\n",
            "79/79 [==============================] - 31s 395ms/step - loss: 0.5981 - accuracy: 0.8209 - val_loss: 0.7401 - val_accuracy: 0.7927\n",
            "Epoch 163/500\n",
            "79/79 [==============================] - 32s 404ms/step - loss: 0.4894 - accuracy: 0.8518 - val_loss: 0.4635 - val_accuracy: 0.8683\n",
            "Epoch 164/500\n",
            "79/79 [==============================] - 33s 412ms/step - loss: 0.4221 - accuracy: 0.8736 - val_loss: 0.4656 - val_accuracy: 0.8739\n",
            "Epoch 165/500\n",
            "79/79 [==============================] - 31s 397ms/step - loss: 0.3786 - accuracy: 0.8826 - val_loss: 0.5244 - val_accuracy: 0.8637\n",
            "Epoch 166/500\n",
            "79/79 [==============================] - 32s 409ms/step - loss: 0.3845 - accuracy: 0.8830 - val_loss: 0.4743 - val_accuracy: 0.8674\n",
            "Epoch 167/500\n",
            "79/79 [==============================] - 34s 429ms/step - loss: 0.3541 - accuracy: 0.8922 - val_loss: 0.4384 - val_accuracy: 0.8814\n",
            "Epoch 168/500\n",
            "79/79 [==============================] - 31s 397ms/step - loss: 0.3388 - accuracy: 0.8941 - val_loss: 0.4286 - val_accuracy: 0.8824\n",
            "Epoch 169/500\n",
            "79/79 [==============================] - 33s 412ms/step - loss: 0.3341 - accuracy: 0.8922 - val_loss: 0.4276 - val_accuracy: 0.8814\n",
            "Epoch 170/500\n",
            "79/79 [==============================] - 33s 419ms/step - loss: 0.3408 - accuracy: 0.8886 - val_loss: 0.4256 - val_accuracy: 0.8824\n",
            "Epoch 171/500\n",
            "79/79 [==============================] - 31s 395ms/step - loss: 0.3309 - accuracy: 0.8975 - val_loss: 0.4139 - val_accuracy: 0.8870\n",
            "Epoch 172/500\n",
            "79/79 [==============================] - 32s 410ms/step - loss: 0.3485 - accuracy: 0.8922 - val_loss: 0.4745 - val_accuracy: 0.8814\n",
            "Epoch 173/500\n",
            "79/79 [==============================] - 35s 443ms/step - loss: 0.3239 - accuracy: 0.8981 - val_loss: 0.4131 - val_accuracy: 0.8842\n",
            "Epoch 174/500\n",
            "79/79 [==============================] - 33s 421ms/step - loss: 0.3244 - accuracy: 0.9009 - val_loss: 0.4057 - val_accuracy: 0.8842\n",
            "Epoch 175/500\n",
            "79/79 [==============================] - 32s 400ms/step - loss: 0.3127 - accuracy: 0.9027 - val_loss: 0.4228 - val_accuracy: 0.8824\n",
            "Epoch 176/500\n",
            "79/79 [==============================] - 33s 413ms/step - loss: 0.3091 - accuracy: 0.9011 - val_loss: 0.4365 - val_accuracy: 0.8870\n",
            "Epoch 177/500\n",
            "79/79 [==============================] - 34s 425ms/step - loss: 0.3245 - accuracy: 0.8965 - val_loss: 0.4163 - val_accuracy: 0.8926\n",
            "Epoch 178/500\n",
            "79/79 [==============================] - 32s 400ms/step - loss: 0.3240 - accuracy: 0.8959 - val_loss: 0.3980 - val_accuracy: 0.8917\n",
            "Epoch 179/500\n",
            "79/79 [==============================] - 33s 418ms/step - loss: 0.3137 - accuracy: 0.8983 - val_loss: 0.4137 - val_accuracy: 0.8936\n",
            "Epoch 180/500\n",
            "79/79 [==============================] - 31s 397ms/step - loss: 0.3042 - accuracy: 0.9111 - val_loss: 0.3779 - val_accuracy: 0.8870\n",
            "Epoch 181/500\n",
            "79/79 [==============================] - 33s 420ms/step - loss: 0.3038 - accuracy: 0.9017 - val_loss: 0.3917 - val_accuracy: 0.8936\n",
            "Epoch 182/500\n",
            "79/79 [==============================] - 31s 397ms/step - loss: 0.2812 - accuracy: 0.9067 - val_loss: 0.4190 - val_accuracy: 0.8861\n",
            "Epoch 183/500\n",
            "79/79 [==============================] - 32s 402ms/step - loss: 0.3124 - accuracy: 0.9055 - val_loss: 0.3627 - val_accuracy: 0.8992\n",
            "Epoch 184/500\n",
            "79/79 [==============================] - 33s 417ms/step - loss: 0.2911 - accuracy: 0.9099 - val_loss: 0.3720 - val_accuracy: 0.9001\n",
            "Epoch 185/500\n",
            "79/79 [==============================] - 32s 403ms/step - loss: 0.2744 - accuracy: 0.9091 - val_loss: 0.3882 - val_accuracy: 0.8936\n",
            "Epoch 186/500\n",
            "79/79 [==============================] - 33s 420ms/step - loss: 0.2903 - accuracy: 0.9095 - val_loss: 0.4440 - val_accuracy: 0.8870\n",
            "Epoch 187/500\n",
            "79/79 [==============================] - 31s 396ms/step - loss: 0.2761 - accuracy: 0.9135 - val_loss: 0.3982 - val_accuracy: 0.8889\n",
            "Epoch 188/500\n",
            "79/79 [==============================] - 32s 402ms/step - loss: 0.2834 - accuracy: 0.9091 - val_loss: 0.3992 - val_accuracy: 0.8945\n",
            "Epoch 189/500\n",
            "79/79 [==============================] - 33s 416ms/step - loss: 0.2840 - accuracy: 0.9121 - val_loss: 0.4021 - val_accuracy: 0.8936\n",
            "Epoch 190/500\n",
            "79/79 [==============================] - 35s 449ms/step - loss: 0.3153 - accuracy: 0.9027 - val_loss: 0.3939 - val_accuracy: 0.8908\n",
            "Epoch 191/500\n",
            "79/79 [==============================] - 31s 398ms/step - loss: 0.3023 - accuracy: 0.9065 - val_loss: 0.3886 - val_accuracy: 0.9010\n",
            "Epoch 192/500\n",
            "79/79 [==============================] - 33s 416ms/step - loss: 0.3074 - accuracy: 0.9025 - val_loss: 0.8908 - val_accuracy: 0.7787\n",
            "Epoch 193/500\n",
            "79/79 [==============================] - 32s 400ms/step - loss: 0.3921 - accuracy: 0.8884 - val_loss: 0.3715 - val_accuracy: 0.8973\n",
            "Epoch 194/500\n",
            "79/79 [==============================] - 32s 399ms/step - loss: 0.2963 - accuracy: 0.9003 - val_loss: 0.3918 - val_accuracy: 0.8954\n",
            "Epoch 195/500\n",
            "79/79 [==============================] - 33s 413ms/step - loss: 0.3791 - accuracy: 0.8802 - val_loss: 0.4400 - val_accuracy: 0.8824\n",
            "Epoch 196/500\n",
            "79/79 [==============================] - 32s 402ms/step - loss: 0.3037 - accuracy: 0.9015 - val_loss: 0.3949 - val_accuracy: 0.8964\n",
            "Epoch 197/500\n",
            "79/79 [==============================] - 32s 406ms/step - loss: 0.3519 - accuracy: 0.8888 - val_loss: 0.3853 - val_accuracy: 0.8973\n",
            "Epoch 198/500\n",
            "79/79 [==============================] - 33s 415ms/step - loss: 0.2979 - accuracy: 0.9031 - val_loss: 0.4200 - val_accuracy: 0.8870\n",
            "Epoch 199/500\n",
            "79/79 [==============================] - 34s 438ms/step - loss: 0.2489 - accuracy: 0.9173 - val_loss: 0.3702 - val_accuracy: 0.9001\n",
            "Epoch 200/500\n",
            "79/79 [==============================] - 35s 439ms/step - loss: 0.2670 - accuracy: 0.9113 - val_loss: 0.3716 - val_accuracy: 0.9020\n",
            "Epoch 201/500\n",
            "79/79 [==============================] - 34s 425ms/step - loss: 0.2464 - accuracy: 0.9215 - val_loss: 0.3987 - val_accuracy: 0.8936\n",
            "Epoch 202/500\n",
            "79/79 [==============================] - 32s 404ms/step - loss: 0.2585 - accuracy: 0.9149 - val_loss: 0.3716 - val_accuracy: 0.8982\n",
            "Epoch 203/500\n",
            "79/79 [==============================] - 32s 401ms/step - loss: 0.2448 - accuracy: 0.9209 - val_loss: 0.3751 - val_accuracy: 0.9029\n",
            "Epoch 204/500\n",
            "79/79 [==============================] - 33s 420ms/step - loss: 0.2478 - accuracy: 0.9177 - val_loss: 0.3524 - val_accuracy: 0.9038\n",
            "Epoch 205/500\n",
            "79/79 [==============================] - 32s 401ms/step - loss: 0.2766 - accuracy: 0.9125 - val_loss: 0.3530 - val_accuracy: 0.8982\n",
            "Epoch 206/500\n",
            "79/79 [==============================] - 35s 443ms/step - loss: 0.3985 - accuracy: 0.8764 - val_loss: 0.3982 - val_accuracy: 0.8898\n",
            "Epoch 207/500\n",
            "79/79 [==============================] - 32s 402ms/step - loss: 0.2558 - accuracy: 0.9157 - val_loss: 0.3608 - val_accuracy: 0.8917\n",
            "Epoch 208/500\n",
            "79/79 [==============================] - 34s 432ms/step - loss: 0.2585 - accuracy: 0.9155 - val_loss: 0.3706 - val_accuracy: 0.9001\n",
            "Epoch 209/500\n",
            "79/79 [==============================] - 32s 402ms/step - loss: 0.2404 - accuracy: 0.9233 - val_loss: 0.3415 - val_accuracy: 0.8982\n",
            "Epoch 210/500\n",
            "79/79 [==============================] - 33s 421ms/step - loss: 0.2509 - accuracy: 0.9225 - val_loss: 0.3498 - val_accuracy: 0.8954\n",
            "Epoch 211/500\n",
            "79/79 [==============================] - 31s 397ms/step - loss: 0.2301 - accuracy: 0.9295 - val_loss: 0.4151 - val_accuracy: 0.8964\n",
            "Epoch 212/500\n",
            "79/79 [==============================] - 33s 423ms/step - loss: 0.2487 - accuracy: 0.9193 - val_loss: 0.3706 - val_accuracy: 0.8973\n",
            "Epoch 213/500\n",
            "79/79 [==============================] - 32s 410ms/step - loss: 0.2495 - accuracy: 0.9173 - val_loss: 0.3674 - val_accuracy: 0.9038\n",
            "Epoch 214/500\n",
            "79/79 [==============================] - 33s 420ms/step - loss: 0.2635 - accuracy: 0.9159 - val_loss: 0.3840 - val_accuracy: 0.8945\n",
            "Epoch 215/500\n",
            "79/79 [==============================] - 32s 405ms/step - loss: 0.2260 - accuracy: 0.9247 - val_loss: 0.3645 - val_accuracy: 0.8982\n",
            "Epoch 216/500\n",
            "79/79 [==============================] - 32s 407ms/step - loss: 0.2585 - accuracy: 0.9189 - val_loss: 0.3731 - val_accuracy: 0.8973\n",
            "Epoch 217/500\n",
            "79/79 [==============================] - 32s 405ms/step - loss: 0.2401 - accuracy: 0.9251 - val_loss: 0.3978 - val_accuracy: 0.8964\n",
            "Epoch 218/500\n",
            "79/79 [==============================] - 31s 397ms/step - loss: 0.2410 - accuracy: 0.9207 - val_loss: 0.3619 - val_accuracy: 0.8992\n",
            "Epoch 219/500\n",
            "79/79 [==============================] - 33s 416ms/step - loss: 0.2437 - accuracy: 0.9227 - val_loss: 0.3537 - val_accuracy: 0.9066\n",
            "Epoch 220/500\n",
            "79/79 [==============================] - 31s 398ms/step - loss: 0.2370 - accuracy: 0.9247 - val_loss: 0.3785 - val_accuracy: 0.9038\n",
            "Epoch 221/500\n",
            "79/79 [==============================] - 33s 422ms/step - loss: 0.2258 - accuracy: 0.9287 - val_loss: 0.3707 - val_accuracy: 0.8982\n",
            "Epoch 222/500\n",
            "79/79 [==============================] - 34s 425ms/step - loss: 0.2252 - accuracy: 0.9285 - val_loss: 0.3878 - val_accuracy: 0.8964\n",
            "Epoch 223/500\n",
            "79/79 [==============================] - 33s 414ms/step - loss: 0.2208 - accuracy: 0.9277 - val_loss: 0.3633 - val_accuracy: 0.9010\n",
            "Epoch 224/500\n",
            "79/79 [==============================] - 31s 397ms/step - loss: 0.2180 - accuracy: 0.9239 - val_loss: 0.3581 - val_accuracy: 0.9020\n",
            "Epoch 225/500\n",
            "79/79 [==============================] - 33s 419ms/step - loss: 0.2125 - accuracy: 0.9333 - val_loss: 0.3825 - val_accuracy: 0.9057\n",
            "Epoch 226/500\n",
            "79/79 [==============================] - 31s 391ms/step - loss: 0.2259 - accuracy: 0.9295 - val_loss: 0.3686 - val_accuracy: 0.9104\n",
            "Epoch 227/500\n",
            "79/79 [==============================] - 31s 397ms/step - loss: 0.2126 - accuracy: 0.9285 - val_loss: 0.3551 - val_accuracy: 0.9057\n",
            "Epoch 228/500\n",
            "79/79 [==============================] - 33s 424ms/step - loss: 0.2256 - accuracy: 0.9293 - val_loss: 0.3485 - val_accuracy: 0.9113\n",
            "Epoch 229/500\n",
            "79/79 [==============================] - 31s 391ms/step - loss: 0.2245 - accuracy: 0.9273 - val_loss: 0.3498 - val_accuracy: 0.9010\n",
            "Epoch 230/500\n",
            "79/79 [==============================] - 33s 412ms/step - loss: 0.2406 - accuracy: 0.9219 - val_loss: 0.3545 - val_accuracy: 0.9020\n",
            "Epoch 231/500\n",
            "79/79 [==============================] - 31s 393ms/step - loss: 0.2125 - accuracy: 0.9307 - val_loss: 0.3794 - val_accuracy: 0.9029\n",
            "Epoch 232/500\n",
            "79/79 [==============================] - 32s 401ms/step - loss: 0.2021 - accuracy: 0.9353 - val_loss: 0.3602 - val_accuracy: 0.9057\n",
            "Epoch 233/500\n",
            "79/79 [==============================] - 33s 413ms/step - loss: 0.2434 - accuracy: 0.9217 - val_loss: 0.3516 - val_accuracy: 0.9001\n",
            "Epoch 234/500\n",
            "79/79 [==============================] - 31s 398ms/step - loss: 0.2112 - accuracy: 0.9339 - val_loss: 0.3551 - val_accuracy: 0.9038\n",
            "Epoch 235/500\n",
            "79/79 [==============================] - 32s 410ms/step - loss: 0.2122 - accuracy: 0.9305 - val_loss: 0.3738 - val_accuracy: 0.9001\n",
            "Epoch 236/500\n",
            "79/79 [==============================] - 31s 398ms/step - loss: 0.3765 - accuracy: 0.8874 - val_loss: 0.3580 - val_accuracy: 0.9066\n",
            "Epoch 237/500\n",
            "79/79 [==============================] - 31s 395ms/step - loss: 0.2542 - accuracy: 0.9197 - val_loss: 0.3564 - val_accuracy: 0.8982\n",
            "Epoch 238/500\n",
            "79/79 [==============================] - 33s 413ms/step - loss: 0.2699 - accuracy: 0.9151 - val_loss: 0.3536 - val_accuracy: 0.9085\n",
            "Epoch 239/500\n",
            "79/79 [==============================] - 33s 419ms/step - loss: 0.2069 - accuracy: 0.9345 - val_loss: 0.3645 - val_accuracy: 0.9094\n",
            "Epoch 240/500\n",
            "79/79 [==============================] - 33s 412ms/step - loss: 0.2120 - accuracy: 0.9281 - val_loss: 0.3759 - val_accuracy: 0.9001\n",
            "Epoch 241/500\n",
            "79/79 [==============================] - 31s 399ms/step - loss: 0.2055 - accuracy: 0.9313 - val_loss: 0.3760 - val_accuracy: 0.9038\n",
            "Epoch 242/500\n",
            "79/79 [==============================] - 32s 412ms/step - loss: 0.2144 - accuracy: 0.9265 - val_loss: 0.3793 - val_accuracy: 0.9038\n",
            "Epoch 243/500\n",
            "79/79 [==============================] - 31s 395ms/step - loss: 0.2341 - accuracy: 0.9249 - val_loss: 0.4697 - val_accuracy: 0.8711\n",
            "Epoch 244/500\n",
            "79/79 [==============================] - 32s 401ms/step - loss: 0.2301 - accuracy: 0.9285 - val_loss: 0.3784 - val_accuracy: 0.9010\n",
            "Epoch 245/500\n",
            "79/79 [==============================] - 32s 409ms/step - loss: 0.2050 - accuracy: 0.9357 - val_loss: 0.3710 - val_accuracy: 0.9085\n",
            "Epoch 246/500\n",
            "79/79 [==============================] - 31s 392ms/step - loss: 0.1935 - accuracy: 0.9361 - val_loss: 0.3396 - val_accuracy: 0.9122\n",
            "Epoch 247/500\n",
            "79/79 [==============================] - 32s 403ms/step - loss: 0.2051 - accuracy: 0.9329 - val_loss: 0.3493 - val_accuracy: 0.9094\n",
            "Epoch 248/500\n",
            "79/79 [==============================] - 32s 407ms/step - loss: 0.1900 - accuracy: 0.9411 - val_loss: 0.3376 - val_accuracy: 0.9122\n",
            "Epoch 249/500\n",
            "79/79 [==============================] - 31s 395ms/step - loss: 0.2020 - accuracy: 0.9385 - val_loss: 0.3604 - val_accuracy: 0.9122\n",
            "Epoch 250/500\n",
            "79/79 [==============================] - 33s 416ms/step - loss: 0.1769 - accuracy: 0.9397 - val_loss: 0.3780 - val_accuracy: 0.9122\n",
            "Epoch 251/500\n",
            "79/79 [==============================] - 33s 413ms/step - loss: 0.2016 - accuracy: 0.9343 - val_loss: 0.3316 - val_accuracy: 0.9048\n",
            "Epoch 252/500\n",
            "79/79 [==============================] - 33s 422ms/step - loss: 0.1974 - accuracy: 0.9343 - val_loss: 0.3230 - val_accuracy: 0.9113\n",
            "Epoch 253/500\n",
            "79/79 [==============================] - 32s 399ms/step - loss: 0.1860 - accuracy: 0.9399 - val_loss: 0.3376 - val_accuracy: 0.9132\n",
            "Epoch 254/500\n",
            "79/79 [==============================] - 34s 426ms/step - loss: 0.1934 - accuracy: 0.9343 - val_loss: 0.3475 - val_accuracy: 0.9094\n",
            "Epoch 255/500\n",
            "79/79 [==============================] - 32s 408ms/step - loss: 0.1941 - accuracy: 0.9393 - val_loss: 0.3619 - val_accuracy: 0.9066\n",
            "Epoch 256/500\n",
            "79/79 [==============================] - 33s 412ms/step - loss: 0.2006 - accuracy: 0.9311 - val_loss: 0.3612 - val_accuracy: 0.8982\n",
            "Epoch 257/500\n",
            "79/79 [==============================] - 33s 415ms/step - loss: 0.2288 - accuracy: 0.9271 - val_loss: 0.3553 - val_accuracy: 0.9094\n",
            "Epoch 258/500\n",
            "79/79 [==============================] - 33s 408ms/step - loss: 0.1819 - accuracy: 0.9393 - val_loss: 0.3710 - val_accuracy: 0.9132\n",
            "Epoch 259/500\n",
            "79/79 [==============================] - 32s 402ms/step - loss: 0.2146 - accuracy: 0.9307 - val_loss: 0.3425 - val_accuracy: 0.9104\n",
            "Epoch 260/500\n",
            "79/79 [==============================] - 33s 424ms/step - loss: 0.1706 - accuracy: 0.9455 - val_loss: 0.3346 - val_accuracy: 0.9178\n",
            "Epoch 261/500\n",
            "79/79 [==============================] - 31s 397ms/step - loss: 0.1709 - accuracy: 0.9399 - val_loss: 0.3684 - val_accuracy: 0.9094\n",
            "Epoch 262/500\n",
            "79/79 [==============================] - 33s 417ms/step - loss: 0.1988 - accuracy: 0.9357 - val_loss: 0.3198 - val_accuracy: 0.9160\n",
            "Epoch 263/500\n",
            "79/79 [==============================] - 32s 407ms/step - loss: 0.2068 - accuracy: 0.9361 - val_loss: 0.3343 - val_accuracy: 0.9057\n",
            "Epoch 264/500\n",
            "79/79 [==============================] - 32s 409ms/step - loss: 0.1986 - accuracy: 0.9343 - val_loss: 0.3797 - val_accuracy: 0.9066\n",
            "Epoch 265/500\n",
            "79/79 [==============================] - 33s 420ms/step - loss: 0.2013 - accuracy: 0.9359 - val_loss: 0.3655 - val_accuracy: 0.9104\n",
            "Epoch 266/500\n",
            "79/79 [==============================] - 31s 399ms/step - loss: 0.1945 - accuracy: 0.9385 - val_loss: 0.3773 - val_accuracy: 0.9085\n",
            "Epoch 267/500\n",
            "79/79 [==============================] - 33s 415ms/step - loss: 0.1800 - accuracy: 0.9421 - val_loss: 0.3312 - val_accuracy: 0.9141\n",
            "Epoch 268/500\n",
            "79/79 [==============================] - 33s 424ms/step - loss: 0.1682 - accuracy: 0.9449 - val_loss: 0.3203 - val_accuracy: 0.9150\n",
            "Epoch 269/500\n",
            "79/79 [==============================] - 31s 399ms/step - loss: 0.1652 - accuracy: 0.9461 - val_loss: 0.3469 - val_accuracy: 0.9066\n",
            "Epoch 270/500\n",
            "79/79 [==============================] - 33s 416ms/step - loss: 0.1750 - accuracy: 0.9417 - val_loss: 0.3216 - val_accuracy: 0.9122\n",
            "Epoch 271/500\n",
            "79/79 [==============================] - 34s 432ms/step - loss: 0.1678 - accuracy: 0.9411 - val_loss: 0.3486 - val_accuracy: 0.9122\n",
            "Epoch 272/500\n",
            "79/79 [==============================] - 33s 421ms/step - loss: 0.1750 - accuracy: 0.9405 - val_loss: 0.3388 - val_accuracy: 0.9048\n",
            "Epoch 273/500\n",
            "79/79 [==============================] - 33s 416ms/step - loss: 0.1724 - accuracy: 0.9471 - val_loss: 0.3188 - val_accuracy: 0.9188\n",
            "Epoch 274/500\n",
            "79/79 [==============================] - 32s 406ms/step - loss: 0.1617 - accuracy: 0.9441 - val_loss: 0.3594 - val_accuracy: 0.9057\n",
            "Epoch 275/500\n",
            "79/79 [==============================] - 33s 416ms/step - loss: 0.1583 - accuracy: 0.9471 - val_loss: 0.4591 - val_accuracy: 0.8945\n",
            "Epoch 276/500\n",
            "79/79 [==============================] - 32s 406ms/step - loss: 0.1760 - accuracy: 0.9425 - val_loss: 0.3485 - val_accuracy: 0.9141\n",
            "Epoch 277/500\n",
            "79/79 [==============================] - 33s 424ms/step - loss: 0.1733 - accuracy: 0.9431 - val_loss: 0.3650 - val_accuracy: 0.9169\n",
            "Epoch 278/500\n",
            "79/79 [==============================] - 35s 442ms/step - loss: 0.1675 - accuracy: 0.9453 - val_loss: 0.3160 - val_accuracy: 0.9141\n",
            "Epoch 279/500\n",
            "79/79 [==============================] - 33s 420ms/step - loss: 0.1618 - accuracy: 0.9469 - val_loss: 0.3148 - val_accuracy: 0.9169\n",
            "Epoch 280/500\n",
            "79/79 [==============================] - 33s 421ms/step - loss: 0.1627 - accuracy: 0.9449 - val_loss: 0.3756 - val_accuracy: 0.9160\n",
            "Epoch 281/500\n",
            "79/79 [==============================] - 31s 399ms/step - loss: 0.1508 - accuracy: 0.9519 - val_loss: 0.3544 - val_accuracy: 0.9113\n",
            "Epoch 282/500\n",
            "79/79 [==============================] - 32s 405ms/step - loss: 0.1489 - accuracy: 0.9521 - val_loss: 0.3332 - val_accuracy: 0.9150\n",
            "Epoch 283/500\n",
            "79/79 [==============================] - 33s 409ms/step - loss: 0.1430 - accuracy: 0.9533 - val_loss: 0.3425 - val_accuracy: 0.9206\n"
          ]
        }
      ],
      "source": [
        "epochs =500\n",
        "history=model.fit(x=train_gen, epochs=epochs, validation_data=valid_gen,callbacks=myCallback())"
      ]
    },
    {
      "cell_type": "code",
      "execution_count": 21,
      "metadata": {
        "colab": {
          "base_uri": "https://localhost:8080/",
          "height": 782
        },
        "id": "EXxMnI3BcJ6N",
        "outputId": "3edb8055-152a-4ef3-dd73-c7cf51859894"
      },
      "outputs": [
        {
          "output_type": "stream",
          "name": "stdout",
          "text": [
            "\n"
          ]
        },
        {
          "output_type": "display_data",
          "data": {
            "text/plain": [
              "<Figure size 800x400 with 1 Axes>"
            ],
            "image/png": "[encoded data removed]"
          },
          "metadata": {}
        },
        {
          "output_type": "display_data",
          "data": {
            "text/plain": [
              "<Figure size 800x400 with 1 Axes>"
            ],
            "image/png": "[encoded data removed]"
          },
          "metadata": {}
        }
      ],
      "source": [
        "# Plot the training and validation accuracies for each epoch\n",
        "acc = history.history['accuracy']\n",
        "val_acc = history.history['val_accuracy']\n",
        "loss = history.history['loss']\n",
        "val_loss = history.history['val_loss']\n",
        "\n",
        "epochs = range(len(acc))\n",
        "\n",
        "#------------------------------------------------\n",
        "# Plot training and validation accuracy per epoch\n",
        "#------------------------------------------------\n",
        "fig1 = plt.figure(figsize=(8, 4))\n",
        "plt.plot(epochs, acc, 'r')\n",
        "plt.plot(epochs, val_acc, 'b')\n",
        "plt.legend([\"Training Accuracy\", \"Validation Accuracy\"])\n",
        "plt.title('Training and validation accuracy for Combined Dataset')\n",
        "plt.savefig('fig1.png')\n",
        "\n",
        "print(\"\")\n",
        "#------------------------------------------------\n",
        "# Plot training and validation loss per epoch\n",
        "#------------------------------------------------\n",
        "fig2 = plt.figure(figsize=(8, 4))\n",
        "plt.plot(epochs, loss, 'r')\n",
        "plt.plot(epochs, val_loss, 'b')\n",
        "plt.legend([\"Training Loss\", \"Validation Loss\"])\n",
        "plt.title('Training and validation loss for Combined Dataset')\n",
        "plt.savefig('fig2.png')"
      ]
    },
    {
      "cell_type": "code",
      "execution_count": 22,
      "metadata": {
        "colab": {
          "base_uri": "https://localhost:8080/",
          "height": 17
        },
        "id": "JqtsxyXxgCEd",
        "outputId": "f06d163c-5ad2-42ca-f92e-10555bf420da"
      },
      "outputs": [
        {
          "output_type": "display_data",
          "data": {
            "text/plain": [
              "<IPython.core.display.Javascript object>"
            ],
            "application/javascript": [
              "\n",
              "    async function download(id, filename, size) {\n",
              "      if (!google.colab.kernel.accessAllowed) {\n",
              "        return;\n",
              "      }\n",
              "      const div = document.createElement('div');\n",
              "      const label = document.createElement('label');\n",
              "      label.textContent = `Downloading \"${filename}\": `;\n",
              "      div.appendChild(label);\n",
              "      const progress = document.createElement('progress');\n",
              "      progress.max = size;\n",
              "      div.appendChild(progress);\n",
              "      document.body.appendChild(div);\n",
              "\n",
              "      const buffers = [];\n",
              "      let downloaded = 0;\n",
              "\n",
              "      const channel = await google.colab.kernel.comms.open(id);\n",
              "      // Send a message to notify the kernel that we're ready.\n",
              "      channel.send({})\n",
              "\n",
              "      for await (const message of channel.messages) {\n",
              "        // Send a message to notify the kernel that we're ready.\n",
              "        channel.send({})\n",
              "        if (message.buffers) {\n",
              "          for (const buffer of message.buffers) {\n",
              "            buffers.push(buffer);\n",
              "            downloaded += buffer.byteLength;\n",
              "            progress.value = downloaded;\n",
              "          }\n",
              "        }\n",
              "      }\n",
              "      const blob = new Blob(buffers, {type: 'application/binary'});\n",
              "      const a = document.createElement('a');\n",
              "      a.href = window.URL.createObjectURL(blob);\n",
              "      a.download = filename;\n",
              "      div.appendChild(a);\n",
              "      a.click();\n",
              "      div.remove();\n",
              "    }\n",
              "  "
            ]
          },
          "metadata": {}
        },
        {
          "output_type": "display_data",
          "data": {
            "text/plain": [
              "<IPython.core.display.Javascript object>"
            ],
            "application/javascript": [
              "download(\"download_06aea9e6-a5c0-4394-be60-149848a3c5dc\", \"fig1.png\", 38138)"
            ]
          },
          "metadata": {}
        },
        {
          "output_type": "display_data",
          "data": {
            "text/plain": [
              "<IPython.core.display.Javascript object>"
            ],
            "application/javascript": [
              "\n",
              "    async function download(id, filename, size) {\n",
              "      if (!google.colab.kernel.accessAllowed) {\n",
              "        return;\n",
              "      }\n",
              "      const div = document.createElement('div');\n",
              "      const label = document.createElement('label');\n",
              "      label.textContent = `Downloading \"${filename}\": `;\n",
              "      div.appendChild(label);\n",
              "      const progress = document.createElement('progress');\n",
              "      progress.max = size;\n",
              "      div.appendChild(progress);\n",
              "      document.body.appendChild(div);\n",
              "\n",
              "      const buffers = [];\n",
              "      let downloaded = 0;\n",
              "\n",
              "      const channel = await google.colab.kernel.comms.open(id);\n",
              "      // Send a message to notify the kernel that we're ready.\n",
              "      channel.send({})\n",
              "\n",
              "      for await (const message of channel.messages) {\n",
              "        // Send a message to notify the kernel that we're ready.\n",
              "        channel.send({})\n",
              "        if (message.buffers) {\n",
              "          for (const buffer of message.buffers) {\n",
              "            buffers.push(buffer);\n",
              "            downloaded += buffer.byteLength;\n",
              "            progress.value = downloaded;\n",
              "          }\n",
              "        }\n",
              "      }\n",
              "      const blob = new Blob(buffers, {type: 'application/binary'});\n",
              "      const a = document.createElement('a');\n",
              "      a.href = window.URL.createObjectURL(blob);\n",
              "      a.download = filename;\n",
              "      div.appendChild(a);\n",
              "      a.click();\n",
              "      div.remove();\n",
              "    }\n",
              "  "
            ]
          },
          "metadata": {}
        },
        {
          "output_type": "display_data",
          "data": {
            "text/plain": [
              "<IPython.core.display.Javascript object>"
            ],
            "application/javascript": [
              "download(\"download_e0a64969-63b7-4d1e-8ea4-d524cb7cec78\", \"fig2.png\", 35962)"
            ]
          },
          "metadata": {}
        }
      ],
      "source": [
        "from google.colab import files\n",
        "\n",
        "files.download('fig1.png')\n",
        "files.download('fig2.png')"
      ]
    },
    {
      "cell_type": "code",
      "execution_count": 23,
      "metadata": {
        "colab": {
          "base_uri": "https://localhost:8080/",
          "height": 17
        },
        "id": "OExb8mXWgJ2c",
        "outputId": "3c93b670-10e1-4829-bebe-c58ac6cc9323"
      },
      "outputs": [
        {
          "output_type": "display_data",
          "data": {
            "text/plain": [
              "<IPython.core.display.Javascript object>"
            ],
            "application/javascript": [
              "\n",
              "    async function download(id, filename, size) {\n",
              "      if (!google.colab.kernel.accessAllowed) {\n",
              "        return;\n",
              "      }\n",
              "      const div = document.createElement('div');\n",
              "      const label = document.createElement('label');\n",
              "      label.textContent = `Downloading \"${filename}\": `;\n",
              "      div.appendChild(label);\n",
              "      const progress = document.createElement('progress');\n",
              "      progress.max = size;\n",
              "      div.appendChild(progress);\n",
              "      document.body.appendChild(div);\n",
              "\n",
              "      const buffers = [];\n",
              "      let downloaded = 0;\n",
              "\n",
              "      const channel = await google.colab.kernel.comms.open(id);\n",
              "      // Send a message to notify the kernel that we're ready.\n",
              "      channel.send({})\n",
              "\n",
              "      for await (const message of channel.messages) {\n",
              "        // Send a message to notify the kernel that we're ready.\n",
              "        channel.send({})\n",
              "        if (message.buffers) {\n",
              "          for (const buffer of message.buffers) {\n",
              "            buffers.push(buffer);\n",
              "            downloaded += buffer.byteLength;\n",
              "            progress.value = downloaded;\n",
              "          }\n",
              "        }\n",
              "      }\n",
              "      const blob = new Blob(buffers, {type: 'application/binary'});\n",
              "      const a = document.createElement('a');\n",
              "      a.href = window.URL.createObjectURL(blob);\n",
              "      a.download = filename;\n",
              "      div.appendChild(a);\n",
              "      a.click();\n",
              "      div.remove();\n",
              "    }\n",
              "  "
            ]
          },
          "metadata": {}
        },
        {
          "output_type": "display_data",
          "data": {
            "text/plain": [
              "<IPython.core.display.Javascript object>"
            ],
            "application/javascript": [
              "download(\"download_6b578d3e-015b-4c48-92b0-ddd97315e42c\", \"ModelFinal.pkl\", 10264)"
            ]
          },
          "metadata": {}
        }
      ],
      "source": [
        "def download_history():\n",
        "  import pickle\n",
        "  from google.colab import files\n",
        "\n",
        "  with open('ModelFinal.pkl', 'wb') as f:\n",
        "    pickle.dump(history.history, f)\n",
        "\n",
        "  files.download('ModelFinal.pkl')\n",
        "\n",
        "download_history()"
      ]
    },
    {
      "cell_type": "code",
      "execution_count": 24,
      "metadata": {
        "colab": {
          "base_uri": "https://localhost:8080/",
          "height": 72
        },
        "id": "w09-niK5me04",
        "outputId": "efb3f7ed-f57e-47d1-b030-8e0829ff0b90"
      },
      "outputs": [
        {
          "output_type": "stream",
          "name": "stderr",
          "text": [
            "/usr/local/lib/python3.10/dist-packages/keras/src/engine/training.py:3103: UserWarning: You are saving your model as an HDF5 file via `model.save()`. This file format is considered legacy. We recommend using instead the native Keras format, e.g. `model.save('my_model.keras')`.\n",
            "  saving_api.save_model(\n"
          ]
        },
        {
          "output_type": "display_data",
          "data": {
            "text/plain": [
              "<IPython.core.display.Javascript object>"
            ],
            "application/javascript": [
              "\n",
              "    async function download(id, filename, size) {\n",
              "      if (!google.colab.kernel.accessAllowed) {\n",
              "        return;\n",
              "      }\n",
              "      const div = document.createElement('div');\n",
              "      const label = document.createElement('label');\n",
              "      label.textContent = `Downloading \"${filename}\": `;\n",
              "      div.appendChild(label);\n",
              "      const progress = document.createElement('progress');\n",
              "      progress.max = size;\n",
              "      div.appendChild(progress);\n",
              "      document.body.appendChild(div);\n",
              "\n",
              "      const buffers = [];\n",
              "      let downloaded = 0;\n",
              "\n",
              "      const channel = await google.colab.kernel.comms.open(id);\n",
              "      // Send a message to notify the kernel that we're ready.\n",
              "      channel.send({})\n",
              "\n",
              "      for await (const message of channel.messages) {\n",
              "        // Send a message to notify the kernel that we're ready.\n",
              "        channel.send({})\n",
              "        if (message.buffers) {\n",
              "          for (const buffer of message.buffers) {\n",
              "            buffers.push(buffer);\n",
              "            downloaded += buffer.byteLength;\n",
              "            progress.value = downloaded;\n",
              "          }\n",
              "        }\n",
              "      }\n",
              "      const blob = new Blob(buffers, {type: 'application/binary'});\n",
              "      const a = document.createElement('a');\n",
              "      a.href = window.URL.createObjectURL(blob);\n",
              "      a.download = filename;\n",
              "      div.appendChild(a);\n",
              "      a.click();\n",
              "      div.remove();\n",
              "    }\n",
              "  "
            ]
          },
          "metadata": {}
        },
        {
          "output_type": "display_data",
          "data": {
            "text/plain": [
              "<IPython.core.display.Javascript object>"
            ],
            "application/javascript": [
              "download(\"download_e579e012-7a49-4b73-8a06-9e4892a01155\", \"ModelFinal.h5\", 11030104)"
            ]
          },
          "metadata": {}
        }
      ],
      "source": [
        "model.save('ModelFinal.h5')\n",
        "files.download('ModelFinal.h5')"
      ]
    }
  ],
  "metadata": {
    "accelerator": "GPU",
    "colab": {
      "provenance": []
    },
    "kernelspec": {
      "display_name": "Python 3",
      "name": "python3"
    },
    "language_info": {
      "name": "python"
    }
  },
  "nbformat": 4,
  "nbformat_minor": 0
}